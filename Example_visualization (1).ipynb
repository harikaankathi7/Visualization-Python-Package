{
 "cells": [
  {
   "cell_type": "code",
   "execution_count": 4,
   "id": "3f96899b-c113-4a4d-ab36-1d040a7535b6",
   "metadata": {},
   "outputs": [],
   "source": [
    "# import required libraries\n",
    "import pandas as pd\n",
    "from QuickVisualization import visualization\n",
    "%matplotlib inline"
   ]
  },
  {
   "cell_type": "code",
   "execution_count": 5,
   "id": "fd5aaa17-dc51-40d3-84a2-0dd66e39ca4d",
   "metadata": {},
   "outputs": [],
   "source": [
    "# read the dataset\n",
    "data=pd.read_csv(\"titanic_dataset.csv\")"
   ]
  },
  {
   "cell_type": "code",
   "execution_count": 6,
   "id": "9ce1e83c-91d3-4852-85bc-b7b2f0a41562",
   "metadata": {},
   "outputs": [
    {
     "data": {
      "application/vnd.jupyter.widget-view+json": {
       "model_id": "cab9e27a8bd645009f7d25f08333cd2c",
       "version_major": 2,
       "version_minor": 0
      },
      "text/plain": [
       "interactive(children=(Dropdown(description='Graph Type:', options=('barplot', 'boxplot', 'pie', 'lineplot', 's…"
      ]
     },
     "metadata": {},
     "output_type": "display_data"
    }
   ],
   "source": [
    "obj=visualization()\n",
    "obj.plot(data)"
   ]
  },
  {
   "cell_type": "code",
   "execution_count": null,
   "id": "231245a5-5848-40a3-9bd3-980920160153",
   "metadata": {},
   "outputs": [],
   "source": []
  }
 ],
 "metadata": {
  "kernelspec": {
   "display_name": "Python 3 (ipykernel)",
   "language": "python",
   "name": "python3"
  },
  "language_info": {
   "codemirror_mode": {
    "name": "ipython",
    "version": 3
   },
   "file_extension": ".py",
   "mimetype": "text/x-python",
   "name": "python",
   "nbconvert_exporter": "python",
   "pygments_lexer": "ipython3",
   "version": "3.11.5"
  }
 },
 "nbformat": 4,
 "nbformat_minor": 5
}
